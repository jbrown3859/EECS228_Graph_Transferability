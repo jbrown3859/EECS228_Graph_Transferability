{
  "nbformat": 4,
  "nbformat_minor": 0,
  "metadata": {
    "colab": {
      "provenance": []
    },
    "kernelspec": {
      "name": "python3",
      "display_name": "Python 3"
    },
    "language_info": {
      "name": "python"
    }
  },
  "cells": [
    {
      "cell_type": "code",
      "source": [
        "!pip install torch torchvision torchaudio\n",
        "!pip install torch-geometric"
      ],
      "metadata": {
        "id": "TnWdieDgcuNQ"
      },
      "execution_count": null,
      "outputs": []
    },
    {
      "cell_type": "code",
      "source": [
        "import numpy as np\n",
        "import time"
      ],
      "metadata": {
        "id": "5qqxBwbSdTuo"
      },
      "execution_count": 23,
      "outputs": []
    },
    {
      "cell_type": "code",
      "source": [
        "import torch\n",
        "\n",
        "from torch_geometric.datasets import Planetoid\n",
        "\n",
        "dataset_name = 'Cora'\n",
        "\n",
        "root = './data'\n",
        "dataset = Planetoid(root=root, name=dataset_name)\n",
        "data = dataset[0]\n",
        "\n",
        "# Access nodes and edges\n",
        "nodes = data.x  # Node features\n",
        "edges = data.edge_index  # Edges"
      ],
      "metadata": {
        "colab": {
          "base_uri": "https://localhost:8080/"
        },
        "id": "j4ZlWxysb7pL",
        "outputId": "593d6412-c8f7-44bc-834b-190133641aca"
      },
      "execution_count": 13,
      "outputs": [
        {
          "output_type": "stream",
          "name": "stderr",
          "text": [
            "Downloading https://github.com/kimiyoung/planetoid/raw/master/data/ind.cora.x\n",
            "Downloading https://github.com/kimiyoung/planetoid/raw/master/data/ind.cora.tx\n",
            "Downloading https://github.com/kimiyoung/planetoid/raw/master/data/ind.cora.allx\n",
            "Downloading https://github.com/kimiyoung/planetoid/raw/master/data/ind.cora.y\n",
            "Downloading https://github.com/kimiyoung/planetoid/raw/master/data/ind.cora.ty\n",
            "Downloading https://github.com/kimiyoung/planetoid/raw/master/data/ind.cora.ally\n",
            "Downloading https://github.com/kimiyoung/planetoid/raw/master/data/ind.cora.graph\n",
            "Downloading https://github.com/kimiyoung/planetoid/raw/master/data/ind.cora.test.index\n",
            "Processing...\n",
            "Done!\n"
          ]
        }
      ]
    },
    {
      "cell_type": "markdown",
      "source": [
        "The `sanityCheck function` takes a file name and format as input, reads the file, and counts the number of nodes and edges in the graph. It handles both space-separated and comma-separated formats."
      ],
      "metadata": {
        "id": "ZxbeOAIHd2Mm"
      }
    },
    {
      "cell_type": "code",
      "source": [
        "def sanityCheck(edge_index):\n",
        "    nodes = int(edge_index.max()) + 1\n",
        "    edges = edge_index.shape[1]\n",
        "    return nodes, edges\n"
      ],
      "metadata": {
        "id": "7BIfuP_Acerw"
      },
      "execution_count": 14,
      "outputs": []
    },
    {
      "cell_type": "markdown",
      "source": [
        "The `initGraph function` initializes the graph by creating an adjacency list (adj) and an array of degrees (degrees) based on the input file. It then saves these arrays to files with specific names."
      ],
      "metadata": {
        "id": "lN90Xg19d9Aj"
      }
    },
    {
      "cell_type": "code",
      "source": [
        "def initGraph(edge_index, nb_nodes):\n",
        "    adj = np.empty(nb_nodes, dtype=object)\n",
        "    degrees = np.zeros(nb_nodes, dtype=int)\n",
        "    for i in np.ndindex(adj.shape):\n",
        "        adj[i] = []\n",
        "    for edge in edge_index.t().numpy():\n",
        "        i, j = edge[0], edge[1]\n",
        "        degrees[i] += 1\n",
        "        degrees[j] += 1\n",
        "        adj[i].append(j)\n",
        "        adj[j].append(i)\n",
        "    np.save('adj_cora', adj)\n",
        "    np.save('degrees_cora', degrees)\n",
        "    return"
      ],
      "metadata": {
        "id": "hcvRNlW9dOpn"
      },
      "execution_count": 15,
      "outputs": []
    },
    {
      "cell_type": "markdown",
      "source": [
        "    The greedy function implements a greedy algorithm to find a densest subgraph. It takes the file name, the number of nodes, and the number of edges as inputs. It uses precomputed adjacency lists and degree arrays.\n",
        "    \n",
        "    The algorithm iteratively removes vertices with the lowest degree along with their incident edges until no vertices remain. It updates the density and the number of nodes in the densest subgraph during each iteration."
      ],
      "metadata": {
        "id": "fap5tIWQd_K7"
      }
    },
    {
      "cell_type": "code",
      "source": [
        "def greedy(nb_nodes, nb_edges):\n",
        "    adj = np.load('adj_cora.npy', allow_pickle=True)\n",
        "    degrees = np.load('degrees_cora.npy', allow_pickle=True)\n",
        "    erased = np.zeros(nb_nodes, dtype=bool)\n",
        "    vertices = np.empty(nb_nodes, dtype=object)\n",
        "    for i in np.ndindex(vertices.shape):\n",
        "        vertices[i] = []\n",
        "    locations = np.zeros(nb_nodes, dtype=int)\n",
        "    mind = nb_nodes\n",
        "    for i in range(nb_nodes):\n",
        "        vertices[degrees[i]].append(i)\n",
        "        locations[i] = len(vertices[degrees[i]]) - 1\n",
        "        if degrees[i] < mind:\n",
        "            mind = degrees[i]\n",
        "    n = nb_nodes\n",
        "    m = nb_edges\n",
        "    density = m / n\n",
        "    subgraph_nodes = n\n",
        "\n",
        "    while n != 0:\n",
        "        while len(vertices[mind]) == 0 and mind < nb_nodes - 1:\n",
        "            mind += 1\n",
        "\n",
        "        if mind == nb_nodes - 1 and len(vertices[mind]) == 0:\n",
        "            break  # All vertices have been removed\n",
        "\n",
        "        imin = vertices[mind].pop()\n",
        "        erased[imin] = 1\n",
        "        neighbors = adj[imin]\n",
        "        backwards = False\n",
        "        for j in neighbors:\n",
        "            if not erased[j]:\n",
        "                m -= 1\n",
        "                d = degrees[j]\n",
        "                loc = locations[j]\n",
        "                length = len(vertices[d])\n",
        "                vertices[d][loc], vertices[d][length - 1] = vertices[d][length - 1], vertices[d][loc]\n",
        "                locations[vertices[d][loc]] = loc\n",
        "                vertices[d].pop()\n",
        "                vertices[d - 1].append(j)\n",
        "                locations[j] = len(vertices[d - 1]) - 1\n",
        "                degrees[j] -= 1\n",
        "                if d == mind:\n",
        "                    backwards = True\n",
        "\n",
        "        if backwards:\n",
        "            mind -= 1\n",
        "\n",
        "        n -= 1\n",
        "        if n != 0:\n",
        "            if density < m / n:\n",
        "                density = m / n\n",
        "                subgraph_nodes = n\n",
        "\n",
        "    return density, subgraph_nodes\n"
      ],
      "metadata": {
        "id": "wJo-Aw8mdQGa"
      },
      "execution_count": 21,
      "outputs": []
    },
    {
      "cell_type": "code",
      "source": [
        "# Save the edges in txt format (you may need to adjust this based on the format)\n",
        "edges_file = 'cora_edges.txt'\n",
        "with open(edges_file, 'w') as f:\n",
        "    for edge in data.edge_index.t().numpy():\n",
        "        f.write(f\"{edge[0]} {edge[1]}\\n\")"
      ],
      "metadata": {
        "id": "_p-a7qYxdWrh"
      },
      "execution_count": 18,
      "outputs": []
    },
    {
      "cell_type": "code",
      "source": [
        "# Perform sanity check and initialize the graph\n",
        "nodes, edges = sanityCheck(data.edge_index)\n",
        "initGraph(data.edge_index, nodes)"
      ],
      "metadata": {
        "id": "X1_Djd-rdb_r"
      },
      "execution_count": 19,
      "outputs": []
    },
    {
      "cell_type": "code",
      "source": [
        "# Run the greedy algorithm on the Cora dataset\n",
        "begin = time.time()\n",
        "density, subgraph_nodes = greedy(nodes, edges)\n",
        "end = time.time()\n",
        "print(f\"Density: {density}, Subgraph Nodes: {subgraph_nodes}\")\n",
        "print(\"Found a result in\", end - begin, \"seconds\")"
      ],
      "metadata": {
        "colab": {
          "base_uri": "https://localhost:8080/"
        },
        "id": "7rlJCM54dduI",
        "outputId": "a6c5a577-2569-4b66-dad4-d9df04ab7418"
      },
      "execution_count": 24,
      "outputs": [
        {
          "output_type": "stream",
          "name": "stdout",
          "text": [
            "Density: 4.497658862876254, Subgraph Nodes: 1495\n",
            "Found a result in 0.09453034400939941 seconds\n"
          ]
        }
      ]
    }
  ]
}